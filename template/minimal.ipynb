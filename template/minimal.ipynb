{
  "cells": [
    {
      "cell_type": "code",
      "execution_count": 6,
      "metadata": {
        "colab": {
          "base_uri": "https://localhost:8080/"
        },
        "id": "3xDtAc-Fa6An",
        "outputId": "ac2f20e1-cca4-4858-8cb0-8e3c6276cdda"
      },
      "outputs": [
        {
          "output_type": "stream",
          "name": "stdout",
          "text": [
            "Using default Community Edition License for Colab. Get yours at: https://ampl.com/ce\n",
            "Licensed to AMPL Community Edition License for the AMPL Model Colaboratory (https://ampl.com/colab).\n"
          ]
        }
      ],
      "source": [
        "# The only 3 lines you need to install and use AMPL with any solver on Colab\n",
        "%pip install -q amplpy\n",
        "from amplpy import AMPL, ampl_notebook\n",
        "\n",
        "ampl = ampl_notebook(\n",
        "    modules=[\"coin\"],  # modules to install\n",
        "    license_uuid=\"default\",  # license to use\n",
        ")  # instantiate AMPL object and register magics"
      ]
    },
    {
      "cell_type": "code",
      "execution_count": 7,
      "metadata": {
        "id": "4oBfIvMzbnvk",
        "colab": {
          "base_uri": "https://localhost:8080/"
        },
        "outputId": "c8e42299-0adf-41fe-91ac-4ce370cb4f90"
      },
      "outputs": [
        {
          "output_type": "stream",
          "name": "stdout",
          "text": [
            "Overwriting evacuacao.mod\n"
          ]
        }
      ],
      "source": [
        "%%writefile evacuacao.mod\n",
        "\n",
        "set Veiculos;  # Conjunto de veículos (1 a 6)\n",
        "set Familias;  # Conjunto de tipos de famílias (1 a 5)\n",
        "\n",
        "param Custo{Veiculos};          # Custo por viagem de cada veículo\n",
        "param Capacidade_Pessoas{Veiculos};  # Capacidade de transporte de pessoas por veículo\n",
        "param Capacidade_Bagagem{Veiculos};  # Capacidade de transporte de bagagem (toneladas)\n",
        "param Tempo_Viagem{Veiculos};   # Tempo de viagem por veículo (em minutos)\n",
        "param Max_Viagens{Veiculos};    # Número máximo de viagens por veículo\n",
        "param Bagagem_Total;            # Bagagem total a transportar (em toneladas)\n",
        "param Pessoas_Total;            # Pessoas totais a transportar\n",
        "param Tempo_Max;                # Tempo máximo disponível para viagens\n",
        "param Tamanho_Familia{Familias};  # Tamanho das famílias por tipo\n",
        "param Quantidade_Familias{Familias};  # Quantidade de famílias por tipo\n",
        "\n",
        "# Parâmetros de total de pessoas\n",
        "param Homens_Total;\n",
        "param Mulheres_Total;\n",
        "param Criancas_Total;\n",
        "\n",
        "# Variáveis de decisão\n",
        "var x{Veiculos} >= 0, integer;  # Número de viagens por veículo\n",
        "var y{Familias, Veiculos} >= 0, integer;  # Famílias do tipo i no veículo j\n",
        "var h{Veiculos} >= 0, integer;  # Número de homens transportados por veículo\n",
        "\n",
        "# Função objetivo: minimizar o custo total das viagens\n",
        "minimize Custo_Total:\n",
        "    sum {v in Veiculos} Custo[v] * x[v];\n",
        "\n",
        "# Restrições\n",
        "# Transporte de pessoas (famílias)\n",
        "subject to Restricao_Pessoas:\n",
        "    sum {v in Veiculos} Capacidade_Pessoas[v] * x[v] >= Homens_Total + Mulheres_Total + Criancas_Total;\n",
        "\n",
        "# Transporte de bagagem\n",
        "subject to Restricao_Bagagem:\n",
        "    sum {v in Veiculos} Capacidade_Bagagem[v] * x[v] <= Bagagem_Total;\n",
        "\n",
        "# Tempo total disponível para viagens\n",
        "subject to Restricao_Tempo:\n",
        "    sum {v in Veiculos} Tempo_Viagem[v] * x[v] <= Tempo_Max;\n",
        "\n",
        "# Famílias alocadas por veículo respeitando a capacidade\n",
        "subject to Capacidade_Familias {v in Veiculos}:\n",
        "    sum {f in Familias} Tamanho_Familia[f] * y[f, v] <= Capacidade_Pessoas[v] * x[v];\n",
        "\n",
        "\n",
        "# Todas as famílias devem ser transportadas\n",
        "    subject to Transporte_Familias {f in Familias}:\n",
        "    sum {v in Veiculos} y[f, v] = Quantidade_Familias[f];\n",
        "\n",
        "# Restrições para alocar homens\n",
        "subject to Restricao_Homens:\n",
        "    sum {v in Veiculos} h[v] = Homens_Total;\n",
        "\n",
        "# Restrição de tempo para cada veículo (600 minutos por veículo)\n",
        "subject to Restricao_Tempo_Individuo {v in Veiculos: v != 6}:\n",
        "    Tempo_Viagem[v] * x[v] <= 600;\n",
        "\n",
        "# Para o veículo 6, que só faz uma viagem\n",
        "subject to Limite_Veiculo_Passeio {v in Veiculos: v == 6}:\n",
        "    x[v] == 1;  # Limita o veículo de passeio a apenas uma viagem\n",
        "\n",
        "# Limite de viagens para outros veículos, podendo fazer múltiplas viagens\n",
        "subject to Limite_Veiculos {v in Veiculos: v != 1}:\n",
        "    x[v] <= Max_Viagens[v];"
      ]
    },
    {
      "cell_type": "code",
      "execution_count": 8,
      "metadata": {
        "colab": {
          "base_uri": "https://localhost:8080/"
        },
        "id": "plPCDhdhjivI",
        "outputId": "5bbb3a92-8ad6-415c-9d9f-341d4c9e9fc4"
      },
      "outputs": [
        {
          "output_type": "stream",
          "name": "stdout",
          "text": [
            "Overwriting evacuacao.dat\n"
          ]
        }
      ],
      "source": [
        "%%writefile evacuacao.dat\n",
        "\n",
        "set Veiculos := 1 2 3 4 5 6;\n",
        "set Familias := 1 2 3 4 5;\n",
        "\n",
        "param Custo := 1 10 2 4 3 75 4 5 5 3 6 2;\n",
        "param Capacidade_Pessoas := 1 20 2 5 3 10 4 30 5 15 6 5;\n",
        "param Capacidade_Bagagem := 1 1000 2 20 3 50 4 1000 5 500 6 100;\n",
        "param Tempo_Viagem := 1 60 2 45 3 10 4 45 5 30 6 30;\n",
        "param Max_Viagens := 1 100 2 260 3 900 4 130 5 100 6 60;\n",
        "param Tempo_Max := 600;\n",
        "\n",
        "param Tamanho_Familia := 1 6 2 5 3 4 4 3 5 2;\n",
        "\n",
        "param Quantidade_Familias :=\n",
        "    1  10\n",
        "    2  25\n",
        "    3  150\n",
        "    4  450\n",
        "    5  350;\n",
        "\n",
        "param Homens_Total := 8000;\n",
        "param Mulheres_Total := 7900;\n",
        "param Criancas_Total := 1850;\n",
        "param Pessoas_Total := 17750;\n",
        "param Bagagem_Total := 177500;"
      ]
    },
    {
      "cell_type": "code",
      "source": [
        "%%ampl_eval\n",
        "model evacuacao.mod;\n",
        "data evacuacao.dat;\n",
        "solve;\n",
        "display x, Custo_Total;"
      ],
      "metadata": {
        "id": "wdZw8iv0Cr6h",
        "outputId": "1c5eb2c1-b38d-4d58-884b-bfef4fc89db2",
        "colab": {
          "base_uri": "https://localhost:8080/"
        }
      },
      "execution_count": 9,
      "outputs": [
        {
          "output_type": "stream",
          "name": "stdout",
          "text": [
            "Warning:\n",
            "\tpresolve: constraint Restricao_Pessoas cannot hold:\n",
            "\t\tbody >= 17745 cannot be <= 1455; difference = 16290\n",
            "\tpresolve: constraint Restricao_Tempo cannot hold:\n",
            "\t\tbody <= 570 cannot be >= 925; difference = -355\n",
            "\tpresolve: constraint Capacidade_Familias[5] cannot hold:\n",
            "\t\tbody <= 0 cannot be >= 12; difference = -12\n",
            "\tpresolve: constraint Restricao_Tempo cannot hold:\n",
            "\t\tbody <= 30 cannot be >= 610; difference = -580\n",
            "\tpresolve: constraint Transporte_Familias[5] cannot hold:\n",
            "\t\tbody >= 350 cannot be <= 286; difference = 64\n",
            "\t4 presolve messages suppressed.\n",
            "x [*] :=\n",
            "1   9\n",
            "2   0\n",
            "3   0\n",
            "4  12\n",
            "5   0\n",
            "6   1\n",
            ";\n",
            "\n",
            "Custo_Total = 152\n",
            "\n"
          ]
        }
      ]
    },
    {
      "cell_type": "markdown",
      "metadata": {
        "id": "mqUbsMqcM7hD"
      },
      "source": [
        "[AMPL Website](https://ampl.com) | [AMPL Colab](https://colab.ampl.com) | [Community Edition]( https://ampl.com/ce/) | [Twitter](https://twitter.com/AMPLopt) | [LinkedIn](https://www.linkedin.com/company/ampl)\n",
        "\n",
        "[![Hits](https://h.ampl.com/https://github.com/ampl/amplcolab/blob/master/template/minimal.ipynb)](https://colab.ampl.com)"
      ]
    }
  ],
  "metadata": {
    "colab": {
      "provenance": []
    },
    "kernelspec": {
      "display_name": "Python 3",
      "language": "python",
      "name": "python3"
    },
    "language_info": {
      "codemirror_mode": {
        "name": "ipython",
        "version": 3
      },
      "file_extension": ".py",
      "mimetype": "text/x-python",
      "name": "python",
      "nbconvert_exporter": "python",
      "pygments_lexer": "ipython3",
      "version": "3.6.9"
    },
    "vscode": {
      "interpreter": {
        "hash": "ee4198aac13dae9b6fccd443041680d99c2643c4956ef7c80ff6dcc0057cb523"
      }
    }
  },
  "nbformat": 4,
  "nbformat_minor": 0
}